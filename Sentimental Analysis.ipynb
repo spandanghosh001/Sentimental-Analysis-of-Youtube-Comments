{
 "cells": [
  {
   "cell_type": "code",
   "execution_count": 2,
   "id": "a6d3839d",
   "metadata": {
    "execution": {
     "iopub.execute_input": "2022-09-30T03:58:29.774969Z",
     "iopub.status.busy": "2022-09-30T03:58:29.774270Z",
     "iopub.status.idle": "2022-09-30T03:58:29.779218Z",
     "shell.execute_reply": "2022-09-30T03:58:29.778334Z"
    },
    "papermill": {
     "duration": 0.015409,
     "end_time": "2022-09-30T03:58:29.781518",
     "exception": false,
     "start_time": "2022-09-30T03:58:29.766109",
     "status": "completed"
    },
    "tags": []
   },
   "outputs": [],
   "source": [
    "# from youtube_comment_scraper_python import *\n",
    "# import pandas as pd\n",
    "# link = 'https://www.youtube.com/watch?v=uYPbbksJxIg&ab_channel=UniversalPictures'\n",
    "# youtube.open(link)\n",
    "# response = youtube.video_comments()\n",
    "# all_data = []\n",
    "# for i in range(0, 10): # It will scroll 10 times\n",
    "#     response = youtube.video_comments()\n",
    "#     data = response['body']\n",
    "#     all_data.extend(data)\n",
    "# df = pd.DataFrame(data)\n",
    "# df.to_csv('./data/comments.csv')"
   ]
  },
  {
   "attachments": {},
   "cell_type": "markdown",
   "id": "5760afce",
   "metadata": {
    "papermill": {
     "duration": 0.00732,
     "end_time": "2022-09-30T03:58:29.796844",
     "exception": false,
     "start_time": "2022-09-30T03:58:29.789524",
     "status": "completed"
    },
    "tags": []
   },
   "source": [
    "# Datatransformation"
   ]
  },
  {
   "attachments": {},
   "cell_type": "markdown",
   "id": "ab538562",
   "metadata": {
    "papermill": {
     "duration": 0.006856,
     "end_time": "2022-09-30T03:58:29.811210",
     "exception": false,
     "start_time": "2022-09-30T03:58:29.804354",
     "status": "completed"
    },
    "tags": []
   },
   "source": [
    "* **Libraries required**"
   ]
  },
  {
   "cell_type": "code",
   "execution_count": 3,
   "id": "9b487549",
   "metadata": {
    "execution": {
     "iopub.execute_input": "2022-09-30T03:58:29.827839Z",
     "iopub.status.busy": "2022-09-30T03:58:29.827230Z",
     "iopub.status.idle": "2022-09-30T03:58:31.873350Z",
     "shell.execute_reply": "2022-09-30T03:58:31.871942Z"
    },
    "papermill": {
     "duration": 2.057974,
     "end_time": "2022-09-30T03:58:31.876518",
     "exception": false,
     "start_time": "2022-09-30T03:58:29.818544",
     "status": "completed"
    },
    "tags": []
   },
   "outputs": [],
   "source": [
    "#Libraries \n",
    "import numpy as np\n",
    "import pandas as pd \n",
    "import matplotlib.pyplot as plt\n",
    "%matplotlib inline\n",
    "import os\n",
    "\n",
    "# Import functions for data preprocessing & data preparation\n",
    "from sklearn.preprocessing import LabelEncoder\n",
    "from sklearn.utils import resample\n",
    "from sklearn.feature_extraction.text import CountVectorizer\n",
    "from nltk.sentiment.vader import SentimentIntensityAnalyzer\n",
    "\n",
    "from nltk.tokenize import word_tokenize\n",
    "from nltk.stem import WordNetLemmatizer\n",
    "from nltk.stem import PorterStemmer, LancasterStemmer\n",
    "from nltk.stem.snowball import SnowballStemmer\n",
    "from nltk.corpus import stopwords\n",
    "from nltk.corpus import wordnet\n",
    "import string\n",
    "from string import punctuation\n",
    "import nltk\n",
    "import re"
   ]
  },
  {
   "attachments": {},
   "cell_type": "markdown",
   "id": "5dd11013",
   "metadata": {
    "papermill": {
     "duration": 0.006969,
     "end_time": "2022-09-30T03:58:31.891089",
     "exception": false,
     "start_time": "2022-09-30T03:58:31.884120",
     "status": "completed"
    },
    "tags": []
   },
   "source": [
    "* **Read data**"
   ]
  },
  {
   "cell_type": "code",
   "execution_count": 4,
   "id": "d31585e3",
   "metadata": {
    "execution": {
     "iopub.execute_input": "2022-09-30T03:58:31.910064Z",
     "iopub.status.busy": "2022-09-30T03:58:31.909567Z",
     "iopub.status.idle": "2022-09-30T03:58:31.954451Z",
     "shell.execute_reply": "2022-09-30T03:58:31.952746Z"
    },
    "papermill": {
     "duration": 0.057343,
     "end_time": "2022-09-30T03:58:31.957543",
     "exception": false,
     "start_time": "2022-09-30T03:58:31.900200",
     "status": "completed"
    },
    "tags": []
   },
   "outputs": [
    {
     "data": {
      "text/html": [
       "<div>\n",
       "<style scoped>\n",
       "    .dataframe tbody tr th:only-of-type {\n",
       "        vertical-align: middle;\n",
       "    }\n",
       "\n",
       "    .dataframe tbody tr th {\n",
       "        vertical-align: top;\n",
       "    }\n",
       "\n",
       "    .dataframe thead th {\n",
       "        text-align: right;\n",
       "    }\n",
       "</style>\n",
       "<table border=\"1\" class=\"dataframe\">\n",
       "  <thead>\n",
       "    <tr style=\"text-align: right;\">\n",
       "      <th></th>\n",
       "      <th>Comment</th>\n",
       "    </tr>\n",
       "  </thead>\n",
       "  <tbody>\n",
       "    <tr>\n",
       "      <th>0</th>\n",
       "      <td>\"You're the man who gave them the power to des...</td>\n",
       "    </tr>\n",
       "    <tr>\n",
       "      <th>1</th>\n",
       "      <td>I loved the part when Thomas Shelby retired fr...</td>\n",
       "    </tr>\n",
       "    <tr>\n",
       "      <th>2</th>\n",
       "      <td>\"Until somebody builds a bigger bomb.\"\\nI love...</td>\n",
       "    </tr>\n",
       "    <tr>\n",
       "      <th>3</th>\n",
       "      <td>that one second shot of einstein is just absol...</td>\n",
       "    </tr>\n",
       "    <tr>\n",
       "      <th>4</th>\n",
       "      <td>I was supposed to watch this with my uncle, wh...</td>\n",
       "    </tr>\n",
       "    <tr>\n",
       "      <th>...</th>\n",
       "      <td>...</td>\n",
       "    </tr>\n",
       "    <tr>\n",
       "      <th>175</th>\n",
       "      <td>Periodic Movie + Cillian Murphy + Nolan Execut...</td>\n",
       "    </tr>\n",
       "    <tr>\n",
       "      <th>176</th>\n",
       "      <td>\"Because no one cared about the bomb that didn...</td>\n",
       "    </tr>\n",
       "    <tr>\n",
       "      <th>177</th>\n",
       "      <td>\"Now I am become death, the destroyer of world...</td>\n",
       "    </tr>\n",
       "    <tr>\n",
       "      <th>178</th>\n",
       "      <td>the cinematography matches interstellar. I hop...</td>\n",
       "    </tr>\n",
       "    <tr>\n",
       "      <th>179</th>\n",
       "      <td>finally the movie that leads to the hills have...</td>\n",
       "    </tr>\n",
       "  </tbody>\n",
       "</table>\n",
       "<p>180 rows × 1 columns</p>\n",
       "</div>"
      ],
      "text/plain": [
       "                                               Comment\n",
       "0    \"You're the man who gave them the power to des...\n",
       "1    I loved the part when Thomas Shelby retired fr...\n",
       "2    \"Until somebody builds a bigger bomb.\"\\nI love...\n",
       "3    that one second shot of einstein is just absol...\n",
       "4    I was supposed to watch this with my uncle, wh...\n",
       "..                                                 ...\n",
       "175  Periodic Movie + Cillian Murphy + Nolan Execut...\n",
       "176  \"Because no one cared about the bomb that didn...\n",
       "177  \"Now I am become death, the destroyer of world...\n",
       "178  the cinematography matches interstellar. I hop...\n",
       "179  finally the movie that leads to the hills have...\n",
       "\n",
       "[180 rows x 1 columns]"
      ]
     },
     "execution_count": 4,
     "metadata": {},
     "output_type": "execute_result"
    }
   ],
   "source": [
    "data = pd.read_csv('./data/comments.csv')\n",
    "data.columns\n",
    "data1=data.drop(['Unnamed: 0','UserLink','Likes','Time','user'],axis=1)\n",
    "data1"
   ]
  },
  {
   "attachments": {},
   "cell_type": "markdown",
   "id": "f9ae7728",
   "metadata": {
    "papermill": {
     "duration": 0.007332,
     "end_time": "2022-09-30T03:58:31.972749",
     "exception": false,
     "start_time": "2022-09-30T03:58:31.965417",
     "status": "completed"
    },
    "tags": []
   },
   "source": [
    "* **Data labelling**"
   ]
  },
  {
   "cell_type": "code",
   "execution_count": 5,
   "id": "771e9208",
   "metadata": {
    "execution": {
     "iopub.execute_input": "2022-09-30T03:58:31.990695Z",
     "iopub.status.busy": "2022-09-30T03:58:31.990229Z",
     "iopub.status.idle": "2022-09-30T03:58:32.536210Z",
     "shell.execute_reply": "2022-09-30T03:58:32.534890Z"
    },
    "papermill": {
     "duration": 0.558513,
     "end_time": "2022-09-30T03:58:32.539262",
     "exception": false,
     "start_time": "2022-09-30T03:58:31.980749",
     "status": "completed"
    },
    "tags": []
   },
   "outputs": [
    {
     "name": "stderr",
     "output_type": "stream",
     "text": [
      "[nltk_data] Downloading package vader_lexicon to\n",
      "[nltk_data]     C:\\Users\\spand\\AppData\\Roaming\\nltk_data...\n",
      "[nltk_data]   Package vader_lexicon is already up-to-date!\n"
     ]
    },
    {
     "data": {
      "text/html": [
       "<div>\n",
       "<style scoped>\n",
       "    .dataframe tbody tr th:only-of-type {\n",
       "        vertical-align: middle;\n",
       "    }\n",
       "\n",
       "    .dataframe tbody tr th {\n",
       "        vertical-align: top;\n",
       "    }\n",
       "\n",
       "    .dataframe thead th {\n",
       "        text-align: right;\n",
       "    }\n",
       "</style>\n",
       "<table border=\"1\" class=\"dataframe\">\n",
       "  <thead>\n",
       "    <tr style=\"text-align: right;\">\n",
       "      <th></th>\n",
       "      <th>Comment</th>\n",
       "      <th>Positive</th>\n",
       "      <th>Negative</th>\n",
       "      <th>Neutral</th>\n",
       "      <th>Compound</th>\n",
       "      <th>Sentiment</th>\n",
       "    </tr>\n",
       "  </thead>\n",
       "  <tbody>\n",
       "    <tr>\n",
       "      <th>0</th>\n",
       "      <td>\"You're the man who gave them the power to des...</td>\n",
       "      <td>0.000</td>\n",
       "      <td>0.243</td>\n",
       "      <td>0.757</td>\n",
       "      <td>-0.6660</td>\n",
       "      <td>Negative</td>\n",
       "    </tr>\n",
       "    <tr>\n",
       "      <th>1</th>\n",
       "      <td>I loved the part when Thomas Shelby retired fr...</td>\n",
       "      <td>0.218</td>\n",
       "      <td>0.000</td>\n",
       "      <td>0.782</td>\n",
       "      <td>0.8442</td>\n",
       "      <td>Positive</td>\n",
       "    </tr>\n",
       "    <tr>\n",
       "      <th>2</th>\n",
       "      <td>\"Until somebody builds a bigger bomb.\"\\nI love...</td>\n",
       "      <td>0.075</td>\n",
       "      <td>0.121</td>\n",
       "      <td>0.804</td>\n",
       "      <td>-0.7017</td>\n",
       "      <td>Negative</td>\n",
       "    </tr>\n",
       "    <tr>\n",
       "      <th>3</th>\n",
       "      <td>that one second shot of einstein is just absol...</td>\n",
       "      <td>0.204</td>\n",
       "      <td>0.000</td>\n",
       "      <td>0.796</td>\n",
       "      <td>0.6249</td>\n",
       "      <td>Positive</td>\n",
       "    </tr>\n",
       "    <tr>\n",
       "      <th>4</th>\n",
       "      <td>I was supposed to watch this with my uncle, wh...</td>\n",
       "      <td>0.141</td>\n",
       "      <td>0.073</td>\n",
       "      <td>0.786</td>\n",
       "      <td>0.7424</td>\n",
       "      <td>Positive</td>\n",
       "    </tr>\n",
       "  </tbody>\n",
       "</table>\n",
       "</div>"
      ],
      "text/plain": [
       "                                             Comment  Positive  Negative  \\\n",
       "0  \"You're the man who gave them the power to des...     0.000     0.243   \n",
       "1  I loved the part when Thomas Shelby retired fr...     0.218     0.000   \n",
       "2  \"Until somebody builds a bigger bomb.\"\\nI love...     0.075     0.121   \n",
       "3  that one second shot of einstein is just absol...     0.204     0.000   \n",
       "4  I was supposed to watch this with my uncle, wh...     0.141     0.073   \n",
       "\n",
       "   Neutral  Compound Sentiment  \n",
       "0    0.757   -0.6660  Negative  \n",
       "1    0.782    0.8442  Positive  \n",
       "2    0.804   -0.7017  Negative  \n",
       "3    0.796    0.6249  Positive  \n",
       "4    0.786    0.7424  Positive  "
      ]
     },
     "execution_count": 5,
     "metadata": {},
     "output_type": "execute_result"
    }
   ],
   "source": [
    "nltk.download('vader_lexicon')\n",
    "sentiments = SentimentIntensityAnalyzer()\n",
    "data1[\"Positive\"] = [sentiments.polarity_scores(i)[\"pos\"] for i in data1[\"Comment\"]]\n",
    "data1[\"Negative\"] = [sentiments.polarity_scores(i)[\"neg\"] for i in data1[\"Comment\"]]\n",
    "data1[\"Neutral\"] = [sentiments.polarity_scores(i)[\"neu\"] for i in data1[\"Comment\"]]\n",
    "data1['Compound'] = [sentiments.polarity_scores(i)[\"compound\"] for i in data1[\"Comment\"]]\n",
    "score = data1[\"Compound\"].values\n",
    "sentiment = []\n",
    "for i in score:\n",
    "    if i >= 0.05 :\n",
    "        sentiment.append('Positive')\n",
    "    elif i <= -0.05 :\n",
    "        sentiment.append('Negative')\n",
    "    else:\n",
    "        sentiment.append('Neutral')\n",
    "data1[\"Sentiment\"] = sentiment\n",
    "data1.head()"
   ]
  },
  {
   "attachments": {},
   "cell_type": "markdown",
   "id": "bbf8e44d",
   "metadata": {
    "papermill": {
     "duration": 0.008146,
     "end_time": "2022-09-30T03:58:32.555850",
     "exception": false,
     "start_time": "2022-09-30T03:58:32.547704",
     "status": "completed"
    },
    "tags": []
   },
   "source": [
    "* **Final data**"
   ]
  },
  {
   "cell_type": "code",
   "execution_count": 6,
   "id": "8d8b85a5",
   "metadata": {
    "execution": {
     "iopub.execute_input": "2022-09-30T03:58:32.574215Z",
     "iopub.status.busy": "2022-09-30T03:58:32.573700Z",
     "iopub.status.idle": "2022-09-30T03:58:32.590306Z",
     "shell.execute_reply": "2022-09-30T03:58:32.588730Z"
    },
    "papermill": {
     "duration": 0.03055,
     "end_time": "2022-09-30T03:58:32.594690",
     "exception": false,
     "start_time": "2022-09-30T03:58:32.564140",
     "status": "completed"
    },
    "tags": []
   },
   "outputs": [
    {
     "data": {
      "text/html": [
       "<div>\n",
       "<style scoped>\n",
       "    .dataframe tbody tr th:only-of-type {\n",
       "        vertical-align: middle;\n",
       "    }\n",
       "\n",
       "    .dataframe tbody tr th {\n",
       "        vertical-align: top;\n",
       "    }\n",
       "\n",
       "    .dataframe thead th {\n",
       "        text-align: right;\n",
       "    }\n",
       "</style>\n",
       "<table border=\"1\" class=\"dataframe\">\n",
       "  <thead>\n",
       "    <tr style=\"text-align: right;\">\n",
       "      <th></th>\n",
       "      <th>Comment</th>\n",
       "      <th>Sentiment</th>\n",
       "    </tr>\n",
       "  </thead>\n",
       "  <tbody>\n",
       "    <tr>\n",
       "      <th>0</th>\n",
       "      <td>\"You're the man who gave them the power to des...</td>\n",
       "      <td>Negative</td>\n",
       "    </tr>\n",
       "    <tr>\n",
       "      <th>1</th>\n",
       "      <td>I loved the part when Thomas Shelby retired fr...</td>\n",
       "      <td>Positive</td>\n",
       "    </tr>\n",
       "    <tr>\n",
       "      <th>2</th>\n",
       "      <td>\"Until somebody builds a bigger bomb.\"\\nI love...</td>\n",
       "      <td>Negative</td>\n",
       "    </tr>\n",
       "    <tr>\n",
       "      <th>3</th>\n",
       "      <td>that one second shot of einstein is just absol...</td>\n",
       "      <td>Positive</td>\n",
       "    </tr>\n",
       "    <tr>\n",
       "      <th>4</th>\n",
       "      <td>I was supposed to watch this with my uncle, wh...</td>\n",
       "      <td>Positive</td>\n",
       "    </tr>\n",
       "  </tbody>\n",
       "</table>\n",
       "</div>"
      ],
      "text/plain": [
       "                                             Comment Sentiment\n",
       "0  \"You're the man who gave them the power to des...  Negative\n",
       "1  I loved the part when Thomas Shelby retired fr...  Positive\n",
       "2  \"Until somebody builds a bigger bomb.\"\\nI love...  Negative\n",
       "3  that one second shot of einstein is just absol...  Positive\n",
       "4  I was supposed to watch this with my uncle, wh...  Positive"
      ]
     },
     "execution_count": 6,
     "metadata": {},
     "output_type": "execute_result"
    }
   ],
   "source": [
    "data2=data1.drop(['Positive','Negative','Neutral','Compound'],axis=1)\n",
    "data2.head()"
   ]
  },
  {
   "attachments": {},
   "cell_type": "markdown",
   "id": "71a3ff7c",
   "metadata": {
    "papermill": {
     "duration": 0.007928,
     "end_time": "2022-09-30T03:58:32.611842",
     "exception": false,
     "start_time": "2022-09-30T03:58:32.603914",
     "status": "completed"
    },
    "tags": []
   },
   "source": [
    "* **Data transformation**"
   ]
  },
  {
   "cell_type": "code",
   "execution_count": 7,
   "id": "49e3eb6a",
   "metadata": {
    "execution": {
     "iopub.execute_input": "2022-09-30T03:58:32.630800Z",
     "iopub.status.busy": "2022-09-30T03:58:32.630195Z",
     "iopub.status.idle": "2022-09-30T03:58:32.642756Z",
     "shell.execute_reply": "2022-09-30T03:58:32.641299Z"
    },
    "papermill": {
     "duration": 0.025568,
     "end_time": "2022-09-30T03:58:32.645712",
     "exception": false,
     "start_time": "2022-09-30T03:58:32.620144",
     "status": "completed"
    },
    "tags": []
   },
   "outputs": [
    {
     "name": "stderr",
     "output_type": "stream",
     "text": [
      "[nltk_data] Downloading package stopwords to\n",
      "[nltk_data]     C:\\Users\\spand\\AppData\\Roaming\\nltk_data...\n",
      "[nltk_data]   Package stopwords is already up-to-date!\n"
     ]
    }
   ],
   "source": [
    "nltk.download('stopwords')\n",
    "stop_words = stopwords.words('english')\n",
    "porter_stemmer = PorterStemmer()\n",
    "lancaster_stemmer = LancasterStemmer() \n",
    "snowball_stemer = SnowballStemmer(language=\"english\")\n",
    "lzr = WordNetLemmatizer()"
   ]
  },
  {
   "cell_type": "code",
   "execution_count": 8,
   "id": "43dc397b",
   "metadata": {
    "execution": {
     "iopub.execute_input": "2022-09-30T03:58:32.664853Z",
     "iopub.status.busy": "2022-09-30T03:58:32.664120Z",
     "iopub.status.idle": "2022-09-30T03:58:32.671665Z",
     "shell.execute_reply": "2022-09-30T03:58:32.670853Z"
    },
    "papermill": {
     "duration": 0.019897,
     "end_time": "2022-09-30T03:58:32.674206",
     "exception": false,
     "start_time": "2022-09-30T03:58:32.654309",
     "status": "completed"
    },
    "tags": []
   },
   "outputs": [],
   "source": [
    "def text_processing(text):   \n",
    "    # convert text into lowercase\n",
    "    text = text.lower()\n",
    "\n",
    "    # remove new line characters in text\n",
    "    text = re.sub(r'\\n',' ', text)\n",
    "    \n",
    "    # remove punctuations from text\n",
    "    text = re.sub('[%s]' % re.escape(punctuation), \"\", text)\n",
    "    \n",
    "    # remove references and hashtags from text\n",
    "    text = re.sub(\"^a-zA-Z0-9$,.\", \"\", text)\n",
    "    \n",
    "    # remove multiple spaces from text\n",
    "    text = re.sub(r'\\s+', ' ', text, flags=re.I)\n",
    "    \n",
    "    # remove special characters from text\n",
    "    text = re.sub(r'\\W', ' ', text)\n",
    "\n",
    "    text = ' '.join([word for word in word_tokenize(text) if word not in stop_words])\n",
    "    \n",
    "    # stemming using porter stemmer from nltk package - msh a7sn 7aga - momken: lancaster, snowball\n",
    "    text=' '.join([porter_stemmer.stem(word) for word in word_tokenize(text)])\n",
    "    text=' '.join([lancaster_stemmer.stem(word) for word in word_tokenize(text)])\n",
    "    text=' '.join([snowball_stemer.stem(word) for word in word_tokenize(text)])\n",
    "    \n",
    "    # lemmatizer using WordNetLemmatizer from nltk package\n",
    "    text=' '.join([lzr.lemmatize(word) for word in word_tokenize(text)])\n",
    "\n",
    "    return text"
   ]
  },
  {
   "cell_type": "code",
   "execution_count": 9,
   "id": "ba67e633",
   "metadata": {
    "execution": {
     "iopub.execute_input": "2022-09-30T03:58:32.692887Z",
     "iopub.status.busy": "2022-09-30T03:58:32.692229Z",
     "iopub.status.idle": "2022-09-30T03:58:35.272525Z",
     "shell.execute_reply": "2022-09-30T03:58:35.271169Z"
    },
    "papermill": {
     "duration": 2.592953,
     "end_time": "2022-09-30T03:58:35.275522",
     "exception": false,
     "start_time": "2022-09-30T03:58:32.682569",
     "status": "completed"
    },
    "tags": []
   },
   "outputs": [
    {
     "name": "stderr",
     "output_type": "stream",
     "text": [
      "[nltk_data] Downloading package omw-1.4 to\n",
      "[nltk_data]     C:\\Users\\spand\\AppData\\Roaming\\nltk_data...\n",
      "[nltk_data]   Package omw-1.4 is already up-to-date!\n"
     ]
    }
   ],
   "source": [
    "nltk.download('omw-1.4')\n",
    "data_copy = data2.copy()\n",
    "data_copy.Comment = data_copy.Comment.apply(lambda text: text_processing(text))"
   ]
  },
  {
   "cell_type": "code",
   "execution_count": 10,
   "id": "470e1a0a",
   "metadata": {
    "execution": {
     "iopub.execute_input": "2022-09-30T03:58:35.295253Z",
     "iopub.status.busy": "2022-09-30T03:58:35.294756Z",
     "iopub.status.idle": "2022-09-30T03:58:35.301359Z",
     "shell.execute_reply": "2022-09-30T03:58:35.300315Z"
    },
    "papermill": {
     "duration": 0.019857,
     "end_time": "2022-09-30T03:58:35.303744",
     "exception": false,
     "start_time": "2022-09-30T03:58:35.283887",
     "status": "completed"
    },
    "tags": []
   },
   "outputs": [],
   "source": [
    "le = LabelEncoder()\n",
    "data_copy['Sentiment'] = le.fit_transform(data_copy['Sentiment'])"
   ]
  },
  {
   "cell_type": "code",
   "execution_count": 11,
   "id": "e85e43ca",
   "metadata": {
    "execution": {
     "iopub.execute_input": "2022-09-30T03:58:35.322568Z",
     "iopub.status.busy": "2022-09-30T03:58:35.322152Z",
     "iopub.status.idle": "2022-09-30T03:58:35.334657Z",
     "shell.execute_reply": "2022-09-30T03:58:35.333606Z"
    },
    "papermill": {
     "duration": 0.024592,
     "end_time": "2022-09-30T03:58:35.337112",
     "exception": false,
     "start_time": "2022-09-30T03:58:35.312520",
     "status": "completed"
    },
    "tags": []
   },
   "outputs": [
    {
     "data": {
      "text/html": [
       "<div>\n",
       "<style scoped>\n",
       "    .dataframe tbody tr th:only-of-type {\n",
       "        vertical-align: middle;\n",
       "    }\n",
       "\n",
       "    .dataframe tbody tr th {\n",
       "        vertical-align: top;\n",
       "    }\n",
       "\n",
       "    .dataframe thead th {\n",
       "        text-align: right;\n",
       "    }\n",
       "</style>\n",
       "<table border=\"1\" class=\"dataframe\">\n",
       "  <thead>\n",
       "    <tr style=\"text-align: right;\">\n",
       "      <th></th>\n",
       "      <th>Sentence</th>\n",
       "      <th>Sentiment</th>\n",
       "    </tr>\n",
       "  </thead>\n",
       "  <tbody>\n",
       "    <tr>\n",
       "      <th>0</th>\n",
       "      <td>yo man gav pow destroy world prep giv chil</td>\n",
       "      <td>0</td>\n",
       "    </tr>\n",
       "    <tr>\n",
       "      <th>1</th>\n",
       "      <td>lov part thom shelb retir lif peak blind mov u...</td>\n",
       "      <td>2</td>\n",
       "    </tr>\n",
       "    <tr>\n",
       "      <th>2</th>\n",
       "      <td>somebod build big bomb lov lin seem giv nonch ...</td>\n",
       "      <td>0</td>\n",
       "    </tr>\n",
       "    <tr>\n",
       "      <th>3</th>\n",
       "      <td>on second shot einstein absolv goosebumpinduc ...</td>\n",
       "      <td>2</td>\n",
       "    </tr>\n",
       "    <tr>\n",
       "      <th>4</th>\n",
       "      <td>suppo watch unc taught everi oppenheim team ma...</td>\n",
       "      <td>2</td>\n",
       "    </tr>\n",
       "  </tbody>\n",
       "</table>\n",
       "</div>"
      ],
      "text/plain": [
       "                                            Sentence  Sentiment\n",
       "0         yo man gav pow destroy world prep giv chil          0\n",
       "1  lov part thom shelb retir lif peak blind mov u...          2\n",
       "2  somebod build big bomb lov lin seem giv nonch ...          0\n",
       "3  on second shot einstein absolv goosebumpinduc ...          2\n",
       "4  suppo watch unc taught everi oppenheim team ma...          2"
      ]
     },
     "execution_count": 11,
     "metadata": {},
     "output_type": "execute_result"
    }
   ],
   "source": [
    "processed_data = {\n",
    "    'Sentence':data_copy.Comment,\n",
    "    'Sentiment':data_copy['Sentiment']\n",
    "}\n",
    "\n",
    "processed_data = pd.DataFrame(processed_data)\n",
    "processed_data.head()"
   ]
  },
  {
   "cell_type": "code",
   "execution_count": 12,
   "id": "aebf0a76",
   "metadata": {
    "execution": {
     "iopub.execute_input": "2022-09-30T03:58:35.356089Z",
     "iopub.status.busy": "2022-09-30T03:58:35.355663Z",
     "iopub.status.idle": "2022-09-30T03:58:35.367585Z",
     "shell.execute_reply": "2022-09-30T03:58:35.366347Z"
    },
    "papermill": {
     "duration": 0.023739,
     "end_time": "2022-09-30T03:58:35.369847",
     "exception": false,
     "start_time": "2022-09-30T03:58:35.346108",
     "status": "completed"
    },
    "tags": []
   },
   "outputs": [
    {
     "data": {
      "text/plain": [
       "Sentiment\n",
       "2    114\n",
       "1     43\n",
       "0     23\n",
       "Name: count, dtype: int64"
      ]
     },
     "execution_count": 12,
     "metadata": {},
     "output_type": "execute_result"
    }
   ],
   "source": [
    "processed_data['Sentiment'].value_counts()"
   ]
  },
  {
   "attachments": {},
   "cell_type": "markdown",
   "id": "7340fbe9",
   "metadata": {},
   "source": [
    "Here,   0 - Negative; \n",
    "        1 - Neutral;\n",
    "        2 - Positive"
   ]
  },
  {
   "attachments": {},
   "cell_type": "markdown",
   "id": "34027eb3",
   "metadata": {
    "papermill": {
     "duration": 0.007729,
     "end_time": "2022-09-30T03:58:35.385638",
     "exception": false,
     "start_time": "2022-09-30T03:58:35.377909",
     "status": "completed"
    },
    "tags": []
   },
   "source": [
    "* **Balancing data**"
   ]
  },
  {
   "cell_type": "code",
   "execution_count": 13,
   "id": "653b400e",
   "metadata": {
    "execution": {
     "iopub.execute_input": "2022-09-30T03:58:35.403714Z",
     "iopub.status.busy": "2022-09-30T03:58:35.403219Z",
     "iopub.status.idle": "2022-09-30T03:58:35.418286Z",
     "shell.execute_reply": "2022-09-30T03:58:35.416801Z"
    },
    "papermill": {
     "duration": 0.027101,
     "end_time": "2022-09-30T03:58:35.420669",
     "exception": false,
     "start_time": "2022-09-30T03:58:35.393568",
     "status": "completed"
    },
    "tags": []
   },
   "outputs": [],
   "source": [
    "df_neutral = processed_data[(processed_data['Sentiment']==1)] \n",
    "df_negative = processed_data[(processed_data['Sentiment']==0)]\n",
    "df_positive = processed_data[(processed_data['Sentiment']==2)]\n",
    "\n",
    "# upsample minority classes\n",
    "df_negative_upsampled = resample(df_negative, \n",
    "                                 replace=True,    \n",
    "                                 n_samples= 205, \n",
    "                                 random_state=42)  \n",
    "\n",
    "df_neutral_upsampled = resample(df_neutral, \n",
    "                                 replace=True,    \n",
    "                                 n_samples= 205, \n",
    "                                 random_state=42)  \n",
    "\n",
    "\n",
    "# Concatenate the upsampled dataframes with the neutral dataframe\n",
    "final_data = pd.concat([df_negative_upsampled,df_neutral_upsampled,df_positive])"
   ]
  },
  {
   "cell_type": "code",
   "execution_count": 14,
   "id": "9fd40890",
   "metadata": {
    "execution": {
     "iopub.execute_input": "2022-09-30T03:58:35.439757Z",
     "iopub.status.busy": "2022-09-30T03:58:35.438786Z",
     "iopub.status.idle": "2022-09-30T03:58:35.449212Z",
     "shell.execute_reply": "2022-09-30T03:58:35.448012Z"
    },
    "papermill": {
     "duration": 0.022799,
     "end_time": "2022-09-30T03:58:35.451721",
     "exception": false,
     "start_time": "2022-09-30T03:58:35.428922",
     "status": "completed"
    },
    "tags": []
   },
   "outputs": [
    {
     "data": {
      "text/plain": [
       "Sentiment\n",
       "0    205\n",
       "1    205\n",
       "2    114\n",
       "Name: count, dtype: int64"
      ]
     },
     "execution_count": 14,
     "metadata": {},
     "output_type": "execute_result"
    }
   ],
   "source": [
    "final_data['Sentiment'].value_counts()"
   ]
  },
  {
   "cell_type": "code",
   "execution_count": 15,
   "id": "568a0391",
   "metadata": {
    "execution": {
     "iopub.execute_input": "2022-09-30T03:58:35.470025Z",
     "iopub.status.busy": "2022-09-30T03:58:35.469534Z",
     "iopub.status.idle": "2022-09-30T03:58:35.479611Z",
     "shell.execute_reply": "2022-09-30T03:58:35.478266Z"
    },
    "papermill": {
     "duration": 0.022407,
     "end_time": "2022-09-30T03:58:35.482226",
     "exception": false,
     "start_time": "2022-09-30T03:58:35.459819",
     "status": "completed"
    },
    "tags": []
   },
   "outputs": [
    {
     "data": {
      "text/plain": [
       "['known oppenheim lif man year ago end mov hop leav u emot stat said would op door pow mess right credit run exampl would today 11000 nuclear weapon pow gre xv z act would hit peopl hard child earl 70 old enough rememb 1983 terrif ev led u closest ev cam novemb 21st 1983 day mad tv mov brok record turn mov terrif left ronald reag depress chang stant nuclear war led greatest reduc nuclear weapon sadl memor dont some world memor second mess mov imagin head screen point year 1945 right trinit test ai learn mistak afraid answ',\n",
       " 'yo man gav pow destroy world prep absolv incredibleno word describ',\n",
       " 'murph nol toge cre mast piec deserv osc sound radioact detect giv goosebump ye inv gav mankind peac nev seen also gav destruct mankind nev seen right rocket man',\n",
       " 'giv cast crew big round appla sacr larg nuclear bomb explo film mak mov felt real auth',\n",
       " 'iv seen ever nol film the sint batm begin ever on imax sint dark knight say iv nev excit nol film the set im count day']"
      ]
     },
     "execution_count": 15,
     "metadata": {},
     "output_type": "execute_result"
    }
   ],
   "source": [
    "corpus = []\n",
    "for sentence in final_data['Sentence']:\n",
    "    corpus.append(sentence)\n",
    "corpus[0:5]"
   ]
  },
  {
   "cell_type": "code",
   "execution_count": 16,
   "id": "b9c4bba3",
   "metadata": {
    "execution": {
     "iopub.execute_input": "2022-09-30T03:58:35.500695Z",
     "iopub.status.busy": "2022-09-30T03:58:35.500279Z",
     "iopub.status.idle": "2022-09-30T03:58:35.527566Z",
     "shell.execute_reply": "2022-09-30T03:58:35.526157Z"
    },
    "papermill": {
     "duration": 0.039859,
     "end_time": "2022-09-30T03:58:35.530491",
     "exception": false,
     "start_time": "2022-09-30T03:58:35.490632",
     "status": "completed"
    },
    "tags": []
   },
   "outputs": [],
   "source": [
    "from sklearn.feature_extraction.text import CountVectorizer\n",
    "cv = CountVectorizer(max_features=1500)\n",
    "X = cv.fit_transform(corpus).toarray()\n",
    "y = final_data.iloc[:, -1].values"
   ]
  },
  {
   "attachments": {},
   "cell_type": "markdown",
   "id": "0da4226e",
   "metadata": {
    "papermill": {
     "duration": 0.008472,
     "end_time": "2022-09-30T03:58:35.547565",
     "exception": false,
     "start_time": "2022-09-30T03:58:35.539093",
     "status": "completed"
    },
    "tags": []
   },
   "source": [
    "* **Machine learning model**"
   ]
  },
  {
   "cell_type": "code",
   "execution_count": 17,
   "id": "8eeb1a8d",
   "metadata": {
    "execution": {
     "iopub.execute_input": "2022-09-30T03:58:35.566537Z",
     "iopub.status.busy": "2022-09-30T03:58:35.566015Z",
     "iopub.status.idle": "2022-09-30T03:58:35.601363Z",
     "shell.execute_reply": "2022-09-30T03:58:35.600020Z"
    },
    "papermill": {
     "duration": 0.048206,
     "end_time": "2022-09-30T03:58:35.604213",
     "exception": false,
     "start_time": "2022-09-30T03:58:35.556007",
     "status": "completed"
    },
    "tags": []
   },
   "outputs": [
    {
     "data": {
      "text/html": [
       "<style>#sk-container-id-1 {color: black;background-color: white;}#sk-container-id-1 pre{padding: 0;}#sk-container-id-1 div.sk-toggleable {background-color: white;}#sk-container-id-1 label.sk-toggleable__label {cursor: pointer;display: block;width: 100%;margin-bottom: 0;padding: 0.3em;box-sizing: border-box;text-align: center;}#sk-container-id-1 label.sk-toggleable__label-arrow:before {content: \"▸\";float: left;margin-right: 0.25em;color: #696969;}#sk-container-id-1 label.sk-toggleable__label-arrow:hover:before {color: black;}#sk-container-id-1 div.sk-estimator:hover label.sk-toggleable__label-arrow:before {color: black;}#sk-container-id-1 div.sk-toggleable__content {max-height: 0;max-width: 0;overflow: hidden;text-align: left;background-color: #f0f8ff;}#sk-container-id-1 div.sk-toggleable__content pre {margin: 0.2em;color: black;border-radius: 0.25em;background-color: #f0f8ff;}#sk-container-id-1 input.sk-toggleable__control:checked~div.sk-toggleable__content {max-height: 200px;max-width: 100%;overflow: auto;}#sk-container-id-1 input.sk-toggleable__control:checked~label.sk-toggleable__label-arrow:before {content: \"▾\";}#sk-container-id-1 div.sk-estimator input.sk-toggleable__control:checked~label.sk-toggleable__label {background-color: #d4ebff;}#sk-container-id-1 div.sk-label input.sk-toggleable__control:checked~label.sk-toggleable__label {background-color: #d4ebff;}#sk-container-id-1 input.sk-hidden--visually {border: 0;clip: rect(1px 1px 1px 1px);clip: rect(1px, 1px, 1px, 1px);height: 1px;margin: -1px;overflow: hidden;padding: 0;position: absolute;width: 1px;}#sk-container-id-1 div.sk-estimator {font-family: monospace;background-color: #f0f8ff;border: 1px dotted black;border-radius: 0.25em;box-sizing: border-box;margin-bottom: 0.5em;}#sk-container-id-1 div.sk-estimator:hover {background-color: #d4ebff;}#sk-container-id-1 div.sk-parallel-item::after {content: \"\";width: 100%;border-bottom: 1px solid gray;flex-grow: 1;}#sk-container-id-1 div.sk-label:hover label.sk-toggleable__label {background-color: #d4ebff;}#sk-container-id-1 div.sk-serial::before {content: \"\";position: absolute;border-left: 1px solid gray;box-sizing: border-box;top: 0;bottom: 0;left: 50%;z-index: 0;}#sk-container-id-1 div.sk-serial {display: flex;flex-direction: column;align-items: center;background-color: white;padding-right: 0.2em;padding-left: 0.2em;position: relative;}#sk-container-id-1 div.sk-item {position: relative;z-index: 1;}#sk-container-id-1 div.sk-parallel {display: flex;align-items: stretch;justify-content: center;background-color: white;position: relative;}#sk-container-id-1 div.sk-item::before, #sk-container-id-1 div.sk-parallel-item::before {content: \"\";position: absolute;border-left: 1px solid gray;box-sizing: border-box;top: 0;bottom: 0;left: 50%;z-index: -1;}#sk-container-id-1 div.sk-parallel-item {display: flex;flex-direction: column;z-index: 1;position: relative;background-color: white;}#sk-container-id-1 div.sk-parallel-item:first-child::after {align-self: flex-end;width: 50%;}#sk-container-id-1 div.sk-parallel-item:last-child::after {align-self: flex-start;width: 50%;}#sk-container-id-1 div.sk-parallel-item:only-child::after {width: 0;}#sk-container-id-1 div.sk-dashed-wrapped {border: 1px dashed gray;margin: 0 0.4em 0.5em 0.4em;box-sizing: border-box;padding-bottom: 0.4em;background-color: white;}#sk-container-id-1 div.sk-label label {font-family: monospace;font-weight: bold;display: inline-block;line-height: 1.2em;}#sk-container-id-1 div.sk-label-container {text-align: center;}#sk-container-id-1 div.sk-container {/* jupyter's `normalize.less` sets `[hidden] { display: none; }` but bootstrap.min.css set `[hidden] { display: none !important; }` so we also need the `!important` here to be able to override the default hidden behavior on the sphinx rendered scikit-learn.org. See: https://github.com/scikit-learn/scikit-learn/issues/21755 */display: inline-block !important;position: relative;}#sk-container-id-1 div.sk-text-repr-fallback {display: none;}</style><div id=\"sk-container-id-1\" class=\"sk-top-container\"><div class=\"sk-text-repr-fallback\"><pre>GaussianNB()</pre><b>In a Jupyter environment, please rerun this cell to show the HTML representation or trust the notebook. <br />On GitHub, the HTML representation is unable to render, please try loading this page with nbviewer.org.</b></div><div class=\"sk-container\" hidden><div class=\"sk-item\"><div class=\"sk-estimator sk-toggleable\"><input class=\"sk-toggleable__control sk-hidden--visually\" id=\"sk-estimator-id-1\" type=\"checkbox\" checked><label for=\"sk-estimator-id-1\" class=\"sk-toggleable__label sk-toggleable__label-arrow\">GaussianNB</label><div class=\"sk-toggleable__content\"><pre>GaussianNB()</pre></div></div></div></div></div>"
      ],
      "text/plain": [
       "GaussianNB()"
      ]
     },
     "execution_count": 17,
     "metadata": {},
     "output_type": "execute_result"
    }
   ],
   "source": [
    "from sklearn.naive_bayes import GaussianNB\n",
    "from sklearn.model_selection import train_test_split\n",
    "X_train, X_test, y_train, y_test = train_test_split(X, y, test_size=0.3, random_state=0)\n",
    "classifier = GaussianNB()\n",
    "classifier.fit(X_train, y_train)"
   ]
  },
  {
   "attachments": {},
   "cell_type": "markdown",
   "id": "5f938b4d",
   "metadata": {
    "papermill": {
     "duration": 0.007955,
     "end_time": "2022-09-30T03:58:35.620484",
     "exception": false,
     "start_time": "2022-09-30T03:58:35.612529",
     "status": "completed"
    },
    "tags": []
   },
   "source": [
    "* **Evaluation**"
   ]
  },
  {
   "cell_type": "code",
   "execution_count": 18,
   "id": "215dbf53",
   "metadata": {
    "execution": {
     "iopub.execute_input": "2022-09-30T03:58:35.639427Z",
     "iopub.status.busy": "2022-09-30T03:58:35.638697Z",
     "iopub.status.idle": "2022-09-30T03:58:35.655365Z",
     "shell.execute_reply": "2022-09-30T03:58:35.653954Z"
    },
    "papermill": {
     "duration": 0.028963,
     "end_time": "2022-09-30T03:58:35.657729",
     "exception": false,
     "start_time": "2022-09-30T03:58:35.628766",
     "status": "completed"
    },
    "tags": []
   },
   "outputs": [
    {
     "data": {
      "text/plain": [
       "array([[59,  0,  0],\n",
       "       [ 0, 63,  1],\n",
       "       [ 8,  4, 23]], dtype=int64)"
      ]
     },
     "execution_count": 18,
     "metadata": {},
     "output_type": "execute_result"
    }
   ],
   "source": [
    "from sklearn.metrics import confusion_matrix, accuracy_score\n",
    "y_pred = classifier.predict(X_test)\n",
    "cm = confusion_matrix(y_test, y_pred)\n",
    "cm"
   ]
  },
  {
   "cell_type": "code",
   "execution_count": 19,
   "id": "a2a14c3b",
   "metadata": {
    "execution": {
     "iopub.execute_input": "2022-09-30T03:58:35.677374Z",
     "iopub.status.busy": "2022-09-30T03:58:35.676595Z",
     "iopub.status.idle": "2022-09-30T03:58:35.683913Z",
     "shell.execute_reply": "2022-09-30T03:58:35.682141Z"
    },
    "papermill": {
     "duration": 0.020548,
     "end_time": "2022-09-30T03:58:35.686792",
     "exception": false,
     "start_time": "2022-09-30T03:58:35.666244",
     "status": "completed"
    },
    "tags": []
   },
   "outputs": [
    {
     "name": "stdout",
     "output_type": "stream",
     "text": [
      "accuracy 0.9177215189873418\n"
     ]
    }
   ],
   "source": [
    "nb_score = accuracy_score(y_test, y_pred)\n",
    "print('accuracy',nb_score)"
   ]
  }
 ],
 "metadata": {
  "kernelspec": {
   "display_name": "Python 3",
   "language": "python",
   "name": "python3"
  },
  "language_info": {
   "codemirror_mode": {
    "name": "ipython",
    "version": 3
   },
   "file_extension": ".py",
   "mimetype": "text/x-python",
   "name": "python",
   "nbconvert_exporter": "python",
   "pygments_lexer": "ipython3",
   "version": "3.11.3"
  },
  "papermill": {
   "default_parameters": {},
   "duration": 17.558683,
   "end_time": "2022-09-30T03:58:37.155936",
   "environment_variables": {},
   "exception": null,
   "input_path": "__notebook__.ipynb",
   "output_path": "__notebook__.ipynb",
   "parameters": {},
   "start_time": "2022-09-30T03:58:19.597253",
   "version": "2.3.4"
  }
 },
 "nbformat": 4,
 "nbformat_minor": 5
}
